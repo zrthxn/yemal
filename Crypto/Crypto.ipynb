{
  "nbformat": 4,
  "nbformat_minor": 0,
  "metadata": {
    "kernelspec": {
      "name": "python3",
      "display_name": "Python 3"
    },
    "language_info": {
      "codemirror_mode": {
        "name": "ipython",
        "version": 3
      },
      "file_extension": ".py",
      "mimetype": "text/x-python",
      "name": "python",
      "nbconvert_exporter": "python",
      "pygments_lexer": "ipython3",
      "version": "3.6.0"
    },
    "colab": {
      "name": "Crypto.ipynb",
      "version": "0.3.2",
      "provenance": []
    },
    "accelerator": "GPU"
  },
  "cells": [
    {
      "cell_type": "code",
      "execution_count": null,
      "metadata": {
        "colab": {
          "base_uri": "https://localhost:8080/",
          "height": 459
        },
        "colab_type": "code",
        "id": "AWh_uH3QYY8f",
        "outputId": "a946ab0e-458a-44c4-ffe1-da1bcb27b68e"
      },
      "outputs": [],
      "source": [
        "!pip install tensorflow-gpu"
      ]
    },
    {
      "cell_type": "code",
      "metadata": {
        "id": "q9e6Isz_XLDz",
        "colab_type": "code",
        "colab": {}
      },
      "source": [
        "import numpy as np\n",
        "import pandas as pd\n",
        "import os\n",
        "import random\n",
        "from collections import deque\n",
        "from IPython.display import clear_output\n",
        "\n",
        "clear_output()\n",
        "\n",
        "DATADIR = \"\"\n",
        "\n",
        "SEQUENCE_LEN = 50  # Number of previous data points to use in RNN\n",
        "FUTURE_LEN = 5  # Number of future data points to predict"
      ],
      "execution_count": 0,
      "outputs": []
    },
    {
      "cell_type": "code",
      "execution_count": null,
      "metadata": {
        "colab": {
          "base_uri": "https://localhost:8080/",
          "height": 175
        },
        "colab_type": "code",
        "id": "hvPU72BIXLEA",
        "outputId": "dcdd5083-9b9e-46fa-fe37-fa4773510527"
      },
      "outputs": [],
      "source": [
        "# Reading the data\n",
        "# ---------------------------------------------------------\n",
        "\n",
        "dataset = pd.read_csv( os.path.join(DATADIR, \"ETH-USD.csv\"), names=['time', 'low', 'high', 'open', 'close', 'volume'] )\n",
        "dataset.fillna(method=\"ffill\", inplace=True)  # if there are gaps in data, use previously known values\n",
        "dataset.dropna(inplace=True)\n",
        "dataset.set_index(\"time\", inplace=True)\n",
        "\n",
        "dataset['future'] = dataset['close'].shift(-FUTURE_LEN)\n",
        "\n",
        "\n",
        "def increaseOrDecrease(past, future):\n",
        "    # Figure out whether the value increses or decreases\n",
        "    if float(past) < float(future):\n",
        "        return 1  # increase\n",
        "    else:\n",
        "        return 0  # decrease or static\n",
        "\n",
        "\n",
        "dataset['trend'] = list(map(increaseOrDecrease, dataset['close'], dataset['future']))\n",
        "\n",
        "val_split = 0.05\n",
        "val_split_indices = sorted(dataset.index.values)[-int( val_split * len(sorted(dataset.index.values)) )]\n",
        "validation_dataset = dataset[(dataset.index >= val_split_indices )]\n",
        "\n",
        "discard_indices = sorted(dataset.index.values)[-int( 5 )]  # Discard NaN values due to shift\n",
        "validation_dataset = validation_dataset[(validation_dataset.index <= discard_indices)]\n",
        "\n",
        "dataset = dataset[(dataset.index < val_split_indices)]\n",
        "\n",
        "print(dataset.head())\n",
        "\n",
        "# Drop unnecessary columns\n",
        "validation_dataset = validation_dataset.drop(\"low\", 1)\n",
        "validation_dataset = validation_dataset.drop(\"high\", 1)\n",
        "validation_dataset = validation_dataset.drop(\"open\", 1)\n",
        "validation_dataset = validation_dataset.drop(\"future\", 1)\n",
        "\n",
        "dataset = dataset.drop(\"low\", 1)\n",
        "dataset = dataset.drop(\"high\", 1)\n",
        "dataset = dataset.drop(\"open\", 1)\n",
        "dataset = dataset.drop(\"future\", 1)"
      ]
    },
    {
      "cell_type": "code",
      "metadata": {
        "id": "iC-S--7QXLEE",
        "colab_type": "code",
        "colab": {}
      },
      "source": [
        "\n",
        "# Data Preprocessing\n",
        "# ---------------------------------------------------------\n",
        "\n",
        "from sklearn import preprocessing\n",
        "\n",
        "def preprocess(df):\n",
        "    for col in df.columns:\n",
        "        if col != \"trend\":\n",
        "            df[col] = df[col].pct_change()\n",
        "            df.dropna(inplace=True)\n",
        "            df[col] = preprocessing.scale(df[col].values)\n",
        "        \n",
        "    df.dropna(inplace=True)\n",
        "\n",
        "    # Contains all sequences of required size\n",
        "    sequences = []\n",
        "    # Current sequence, deque pushes out old data as new entries are appended\n",
        "    seq = deque(maxlen=SEQUENCE_LEN)\n",
        "\n",
        "    for i in df.values:\n",
        "        seq.append([n for n in i[:-1]])  # Append everything except last column\n",
        "        if len(seq) == SEQUENCE_LEN:\n",
        "            sequences.append([np.array(seq), i[-1]])\n",
        "            # Add the current sequence\n",
        "    \n",
        "    # Shuffle order of sequences\n",
        "    random.shuffle(sequences)\n",
        "\n",
        "    # Splitting into buys and sells\n",
        "    buys = []\n",
        "    sells = []\n",
        "\n",
        "    for _seq, trend in sequences:\n",
        "        if trend == 0:\n",
        "            buys.append([_seq, trend])\n",
        "        elif trend == 1:\n",
        "            sells.append([_seq, trend])\n",
        "\n",
        "    random.shuffle(buys)\n",
        "    random.shuffle(sells)\n",
        "\n",
        "    # Equalize the two\n",
        "    lower = min(len(buys), len(sells))\n",
        "    buys = buys[:lower]\n",
        "    sells = sells[:lower]\n",
        "\n",
        "    # Rejoin into main\n",
        "    sequences = buys + sells\n",
        "    random.shuffle(sequences)\n",
        "\n",
        "    # FINALLY Split into features and labels\n",
        "    X = []\n",
        "    y = []\n",
        "\n",
        "    for _seq, trend in sequences:\n",
        "        X.append(_seq)\n",
        "        y.append(trend)\n",
        "\n",
        "    X = np.array(X)\n",
        "\n",
        "    return X, y\n",
        "\n",
        "\n",
        "train_X, train_y = preprocess(dataset)\n",
        "validation_X, validation_y = preprocess(validation_dataset)"
      ],
      "execution_count": 0,
      "outputs": []
    },
    {
      "cell_type": "code",
      "metadata": {
        "id": "5d4RUmjzXLEI",
        "colab_type": "code",
        "colab": {}
      },
      "source": [
        "import tensorflow as tf\n",
        "from tensorflow.keras.models import Sequential\n",
        "from tensorflow.keras.layers import Dense, Dropout, LSTM, CuDNNLSTM, BatchNormalization\n",
        "from tensorflow.keras.optimizers import Adam"
      ],
      "execution_count": 0,
      "outputs": []
    },
    {
      "cell_type": "code",
      "metadata": {
        "id": "VYnTN9WJXLEL",
        "colab_type": "code",
        "colab": {
          "base_uri": "https://localhost:8080/",
          "height": 107
        },
        "outputId": "2ab2e4bd-223d-4774-b807-d5b24562605f"
      },
      "source": [
        "# Creating the Model\n",
        "# ---------------------------------------------------------\n",
        "\n",
        "# Sequential Model\n",
        "model = Sequential()\n",
        "\n",
        "# Layer 1 :: Sheets = LSTM, Dropout, Normalize\n",
        "# Input layer from the sequences\n",
        "model.add(CuDNNLSTM(128, input_shape=(train_X.shape[1:]), return_sequences=True ))\n",
        "model.add(Dropout(0.2))\n",
        "model.add(BatchNormalization())\n",
        "\n",
        "# Layer 2 :: Sheets = LSTM, Dropout, Normalize\n",
        "model.add(CuDNNLSTM(128, return_sequences=True))\n",
        "model.add(Dropout(0.2))\n",
        "model.add(BatchNormalization())\n",
        "\n",
        "# Layer 3 :: Sheets = LSTM, Dropout, Normalize\n",
        "# Final layer\n",
        "model.add(CuDNNLSTM(128))\n",
        "model.add(Dropout(0.2))\n",
        "model.add(BatchNormalization())\n",
        "\n",
        "# Layer 4 :: Sheets = Dense, Dropout\n",
        "# Collection layer, from 128 to 32 nodes\n",
        "model.add(Dense(32, activation=\"relu\"))\n",
        "model.add(Dropout(0.2))\n",
        "\n",
        "# Output layer\n",
        "model.add(Dense(2, activation=\"softmax\"))\n",
        "\n",
        "LEARNING_RATE = 0.001\n",
        "LEARNING_DECAY = 1e-6\n",
        "\n",
        "EPOCHS = 10\n",
        "BATCH_SIZE = 64\n",
        "\n",
        "opt = Adam(lr=LEARNING_RATE, decay=LEARNING_DECAY)"
      ],
      "execution_count": 10,
      "outputs": [
        {
          "output_type": "stream",
          "text": [
            "WARNING: Logging before flag parsing goes to stderr.\n",
            "W0830 17:19:37.366574 140273031346048 deprecation.py:506] From /usr/local/lib/python3.6/dist-packages/tensorflow/python/ops/init_ops.py:1251: calling VarianceScaling.__init__ (from tensorflow.python.ops.init_ops) with dtype is deprecated and will be removed in a future version.\n",
            "Instructions for updating:\n",
            "Call initializer instance with the dtype argument instead of passing it to the constructor\n"
          ],
          "name": "stderr"
        }
      ]
    },
    {
      "cell_type": "code",
      "metadata": {
        "id": "MmmstEBNXLEQ",
        "colab_type": "code",
        "colab": {
          "base_uri": "https://localhost:8080/",
          "height": 404
        },
        "outputId": "accfa054-ae5d-4e71-dfbf-6e9bd6335d67"
      },
      "source": [
        "# Compile model\n",
        "model.compile(loss='sparse_categorical_crossentropy', optimizer=opt, metrics=['accuracy'])\n",
        "\n",
        "# Train Model\n",
        "model.fit(\n",
        "    train_X, train_y,\n",
        "    batch_size=BATCH_SIZE, epochs=EPOCHS,\n",
        "    validation_data=(validation_X, validation_y)\n",
        ")"
      ],
      "execution_count": 11,
      "outputs": [
        {
          "output_type": "stream",
          "text": [
            "Train on 43576 samples, validate on 2334 samples\n",
            "Epoch 1/10\n",
            "43576/43576 [==============================] - 15s 342us/sample - loss: 0.7362 - acc: 0.5064 - val_loss: 0.6929 - val_acc: 0.5437\n",
            "Epoch 2/10\n",
            "43576/43576 [==============================] - 11s 243us/sample - loss: 0.6949 - acc: 0.5171 - val_loss: 0.6928 - val_acc: 0.5154\n",
            "Epoch 3/10\n",
            "43576/43576 [==============================] - 11s 243us/sample - loss: 0.6919 - acc: 0.5220 - val_loss: 0.6990 - val_acc: 0.4910\n",
            "Epoch 4/10\n",
            "43576/43576 [==============================] - 11s 242us/sample - loss: 0.6900 - acc: 0.5314 - val_loss: 0.6981 - val_acc: 0.5047\n",
            "Epoch 5/10\n",
            "43576/43576 [==============================] - 10s 240us/sample - loss: 0.6895 - acc: 0.5358 - val_loss: 0.6947 - val_acc: 0.5116\n",
            "Epoch 6/10\n",
            "43576/43576 [==============================] - 11s 241us/sample - loss: 0.6896 - acc: 0.5326 - val_loss: 0.7007 - val_acc: 0.4589\n",
            "Epoch 7/10\n",
            "43576/43576 [==============================] - 11s 243us/sample - loss: 0.6890 - acc: 0.5350 - val_loss: 0.6914 - val_acc: 0.5394\n",
            "Epoch 8/10\n",
            "43576/43576 [==============================] - 11s 241us/sample - loss: 0.6884 - acc: 0.5406 - val_loss: 0.7000 - val_acc: 0.4709\n",
            "Epoch 9/10\n",
            "43576/43576 [==============================] - 10s 239us/sample - loss: 0.6881 - acc: 0.5441 - val_loss: 0.7051 - val_acc: 0.4674\n",
            "Epoch 10/10\n",
            "43576/43576 [==============================] - 10s 240us/sample - loss: 0.6912 - acc: 0.5186 - val_loss: 0.6936 - val_acc: 0.4987\n"
          ],
          "name": "stdout"
        },
        {
          "output_type": "execute_result",
          "data": {
            "text/plain": [
              "<tensorflow.python.keras.callbacks.History at 0x7f9367b5a6d8>"
            ]
          },
          "metadata": {
            "tags": []
          },
          "execution_count": 11
        }
      ]
    },
    {
      "cell_type": "code",
      "metadata": {
        "id": "p9vwC0OUjTZA",
        "colab_type": "code",
        "colab": {}
      },
      "source": [
        "model.predict()"
      ],
      "execution_count": 0,
      "outputs": []
    }
  ]
}