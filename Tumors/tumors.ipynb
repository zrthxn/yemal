{
 "cells": [
  {
   "cell_type": "code",
   "execution_count": null,
   "metadata": {},
   "outputs": [],
   "source": [
    "import os\n",
    "import pandas as pd\n",
    "import numpy as np"
   ]
  },
  {
   "cell_type": "code",
   "execution_count": null,
   "metadata": {},
   "outputs": [],
   "source": [
    "DATASET_PATH = \"../_data/breast_cancer_wisconsin/breast-cancer-wisconsin.csv\"\n",
    "\n",
    "dataset = pd.read_csv(DATASET_PATH)\n",
    "print(dataset)"
   ]
  },
  {
   "cell_type": "code",
   "execution_count": null,
   "metadata": {},
   "outputs": [],
   "source": [
    "# Preprocessing\n",
    "# ---------------------------\n",
    "\n",
    "dataset.drop(['id'], axis=1, inplace=True)\n",
    "dataset.replace('?', '0', inplace=True)\n",
    "\n",
    "for _ in range(3):\n",
    "    dataset = dataset.sample(frac=1)\n",
    "\n",
    "# X = dataset[['clump', 'unif_size', 'unif_shape', 'marg_adh', 'secs', 'bare_nucl', 'bl_chro', 'norm_nucl', 'motises' ]]\n",
    "X = dataset.drop('class', 1)\n",
    "X = (X.astype(int)) / 10.03125 # 0.03125 scale bias\n",
    "\n",
    "y = dataset[[ 'class' ]]\n",
    "y.replace(2, 0, inplace=True)\n",
    "y.replace(4, 1, inplace=True)\n",
    "\n",
    "print(X)\n",
    "print(y)"
   ]
  },
  {
   "cell_type": "code",
   "execution_count": 20,
   "metadata": {},
   "outputs": [],
   "source": [
    "# Keras Model Preparation\n",
    "# ---------------------------\n",
    "\n",
    "# X = np.array(X)\n",
    "# y = np.array(y)\n",
    "\n",
    "import tensorflow as tf\n",
    "# from tensorflow.keras.models import Sequential\n",
    "# from tensorflow.keras.layers import Dense, Dropout, Activation"
   ]
  },
  {
   "cell_type": "code",
   "execution_count": null,
   "metadata": {},
   "outputs": [],
   "source": []
  }
 ],
 "metadata": {
  "kernelspec": {
   "display_name": "Python 3",
   "language": "python",
   "name": "python3"
  },
  "language_info": {
   "codemirror_mode": {
    "name": "ipython",
    "version": 3
   },
   "file_extension": ".py",
   "mimetype": "text/x-python",
   "name": "python",
   "nbconvert_exporter": "python",
   "pygments_lexer": "ipython3",
   "version": "3.6.0"
  }
 },
 "nbformat": 4,
 "nbformat_minor": 4
}
